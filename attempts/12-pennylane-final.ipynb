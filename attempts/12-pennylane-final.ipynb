{
 "cells": [
  {
   "cell_type": "code",
   "execution_count": 44,
   "metadata": {},
   "outputs": [],
   "source": [
    "import pennylane as qml\n",
    "from pennylane import numpy as np\n",
    "import networkx as nx\n",
    "import scipy\n",
    "\n",
    "np.random.seed(42)"
   ]
  },
  {
   "cell_type": "markdown",
   "metadata": {},
   "source": [
    "Hello there! This is my implementation of using QAOA to solve the weighted maxcut problem.\n",
    "\n",
    "Based off of the [Pennylane demo](https://pennylane.ai/qml/demos/tutorial_qaoa_maxcut.html) and [Jack Ceroni's blog post](https://lucaman99.github.io/new_blog/2020/mar16.html).\n",
    "\n",
    "### The Maxcut Problem\n",
    "**Unweighted vs Weighted Maxcut**  \n",
    "\n",
    "The goal of the maxcut problem is to find the single cut through a graph that maximizes the number of edges cut. The more edges cut, the better. \n",
    "  \n",
    "![..img/unweighted-maxcut.png](..img/unweighted-maxcut.png)\n",
    "  \n",
    "When optimizing a parametized algorithm to solve such a problem via machine learning, the cost function is simply the additive inverse of the number of the edges cut.\n",
    "\n",
    "More specifically, the above is describing the *unweighted* maxcut problem. In a weighted maxcut problem, each edge has a \"weight\" assigned to it. The goal changes from maximizing the number of edges cut, to maximizing the sum of the weights of the edges cut.\n",
    "  \n",
    "![..img/weighted-maxcut.png](..img/weighted-maxcut.png)\n",
    "\n",
    "  \n",
    "Once again, the cost function would be the additive inverse of the total score.\n",
    "\n",
    "In this notebook, I will be solving the weighted maxcut problem, using the Quantum Approximate Optimization Algorithm (QAOA)."
   ]
  },
  {
   "cell_type": "markdown",
   "metadata": {},
   "source": [
    "### QAOA\n",
    "\n",
    "This notebook assumes that you already know how QAOA works. I will not explain how QAOA works or why it works, but I will try to tell you what my code is doing.\n",
    "\n",
    "### Testing out the code\n",
    "To test out the code with different graphs, all you have to do is to change the variable `edges` to include the graph you want. Each edge is inputted individually in the form `(start_node, end_node, weight)`. Change all the weights to 1 for a non-weighted-graph.\n",
    "\n",
    "All the user inputs are in one place -- they're all in the following codeblock. What's the point of having a generalized QAOA if the average person who doesn't know QC is unable to use it? As a sidenote, I was thinking of building a web-app where users can test the algorithm by inputting any graph they want. Similar to [something](https://sentiment.evanlin.ca/) my friend built - anyone online can run his trained natural language processing model."
   ]
  },
  {
   "cell_type": "code",
   "execution_count": 45,
   "metadata": {},
   "outputs": [],
   "source": [
    "## ALL USER INPUTS ## \n",
    "\n",
    "edges = [(0,1,0.7),(2,3,5),(3,0,4.5), (2,0,2.2), (0,3,2.5)] # Input the graph here. Coming up next: random graph generator?\n",
    "\n",
    "## ADVANCED USER INPUTS ##\n",
    "# For those familiar with the algorithm - if you want to tweak any hyperparameters ;)\n",
    "\n",
    "num_layers = 4 # The number of layers to repeat our cost and mixer unitaries\n",
    "num_reps = 100 # The number of repetitions of the circuit when sampling probability distribution. AKA the number of shots.\n",
    "num_iters = 100 # The number of iterations our optimizer will go through when optimizing parameters\n",
    "init_params = 0.01 * np.random.rand(2, num_layers) # Initialize the parameters near zero. Generates array size 2, 4. "
   ]
  },
  {
   "cell_type": "markdown",
   "metadata": {},
   "source": [
    "We're going to calculate the number of nodes that are in the graph, so the user doesn't have to manually input it. We want to reduce the required effort of the user as much as possible.\n",
    "\n",
    "The number of nodes is important information because is equal the number of wires (or qubits) that will be the circuit we construct."
   ]
  },
  {
   "cell_type": "code",
   "execution_count": 46,
   "metadata": {},
   "outputs": [
    {
     "name": "stdout",
     "output_type": "stream",
     "text": [
      "4\n"
     ]
    }
   ],
   "source": [
    "nodes = []\n",
    "for edge in edges:\n",
    "    start_node = edge[0]\n",
    "    end_node = edge[1]\n",
    "    if (start_node not in nodes):\n",
    "        nodes.append(start_node)\n",
    "    if (end_node not in nodes):\n",
    "        nodes.append(end_node)\n",
    "num_nodes = len(nodes)\n",
    "print(num_nodes)"
   ]
  },
  {
   "cell_type": "markdown",
   "metadata": {},
   "source": [
    "The next block of code will visually display what the graph looks like."
   ]
  },
  {
   "cell_type": "code",
   "execution_count": 47,
   "metadata": {},
   "outputs": [
    {
     "data": {
      "image/png": "[encoded data removed]",
      "text/plain": [
       "<Figure size 432x288 with 1 Axes>"
      ]
     },
     "metadata": {},
     "output_type": "display_data"
    }
   ],
   "source": [
    "graph = nx.Graph() \n",
    "graph.add_nodes_from(nodes)\n",
    "graph.add_weighted_edges_from(edges)\n",
    "\n",
    "pos = nx.spring_layout(graph)\n",
    "nx.draw(graph, pos, with_labels = True, font_weight = 'bold')\n",
    "labels = nx.get_edge_attributes(graph, 'weight')\n",
    "nx.draw_networkx_edge_labels(graph, pos, edge_labels = labels)\n",
    "plt.savefig(\"graph-weighted.png\")"
   ]
  },
  {
   "cell_type": "markdown",
   "metadata": {},
   "source": [
    "I will be using this graph to demonstrate this code. You can test out the algorithm with any other graph, by changing the graph in the User Inputs section.\n",
    "\n",
    "Now that we got the graph stuff out of the way, it's time to get into the quantum computation! Here's where the fun begins. Next up, we will be defining some layers of our quantum circuit as python functions."
   ]
  },
  {
   "cell_type": "code",
   "execution_count": 48,
   "metadata": {},
   "outputs": [],
   "source": [
    "# Mixer layer with parameter beta\n",
    "def mixer_layer(beta):\n",
    "    for wire in range(num_nodes):\n",
    "        qml.RX(2 * beta, wires=wire)\n",
    "\n",
    "# Cost layer with parameter gamma\n",
    "def cost_layer(gamma):\n",
    "    for edge in edges:\n",
    "        wire1 = edge[0]\n",
    "        wire2 = edge[1]\n",
    "        weight = edge[2]\n",
    "        qml.CNOT(wires=[wire1, wire2])\n",
    "        qml.RZ(gamma*weight, wires=wire2) # Multiply gamma by the weight - this is the first algorithmetic change from the unweighted maxcut code\n",
    "        qml.CNOT(wires=[wire1, wire2])"
   ]
  },
  {
   "cell_type": "code",
   "execution_count": 49,
   "metadata": {},
   "outputs": [],
   "source": [
    "# Defining a function to measure all qubits in the computational basis, because Pennylane doesn't seem to have one.\n",
    "def comp_basis_measurement(wires):\n",
    "    num_nodes = len(wires)\n",
    "    return qml.Hermitian(np.diag(range(2 ** num_nodes)), wires=wires)"
   ]
  },
  {
   "cell_type": "markdown",
   "metadata": {},
   "source": [
    "Tme to put our layer functions together by composing a circuit:"
   ]
  },
  {
   "cell_type": "code",
   "execution_count": 50,
   "metadata": {},
   "outputs": [],
   "source": [
    "dev = qml.device(\"default.qubit\", wires=num_nodes, analytic=True, shots=1)"
   ]
  },
  {
   "cell_type": "code",
   "execution_count": 51,
   "metadata": {},
   "outputs": [],
   "source": [
    "@qml.qnode(dev)\n",
    "def circuit(gammas, betas, edge=None, num_layers=1):\n",
    "    \n",
    "    # Applies a Hadamard gate to each qubit, which puts our circuit into the quantum state |+...+>\n",
    "    # In this state, the probability of measuring any computational basis state is equal. Algorithms are commonly initialized with all states in equal superposition.\n",
    "    for wire in range(num_nodes):\n",
    "        qml.Hadamard(wires=wire)\n",
    "        \n",
    "    # Repeat the cost and mixer layers p times each\n",
    "    for layer in range(num_layers):\n",
    "        cost_layer(gammas[layer])\n",
    "        mixer_layer(betas[layer])\n",
    "        \n",
    "    # Take the measurement of all qubits in the computational basis\n",
    "    measurement = qml.sample(comp_basis_measurement(range(num_nodes)))\n",
    "    return measurement        "
   ]
  },
  {
   "cell_type": "markdown",
   "metadata": {},
   "source": [
    "Phew, the quantum circuitry is over! Time for some post-measurement data processing."
   ]
  },
  {
   "cell_type": "markdown",
   "metadata": {},
   "source": [
    "Our circuit outputs the measurement as a decimal number, which we don't want. The measurement expressed as a bit string would be more helpful. This function will convert the decimal number into a binary number, or more specifically, an array of the bits (digits) of the binary number."
   ]
  },
  {
   "cell_type": "code",
   "execution_count": 52,
   "metadata": {},
   "outputs": [],
   "source": [
    "def decimal_to_binary(decimal): # future: abstract this function to take in length.\n",
    "    binary_num = []\n",
    "    \n",
    "    # Outputs bitstring of 1s and 0s into an array of digits\n",
    "    def convert(decimal):\n",
    "        if decimal >= 1:\n",
    "            convert(decimal // 2)\n",
    "            binary_num.append(decimal % 2)\n",
    "    \n",
    "    convert(decimal)\n",
    "            \n",
    "    # Change the binary number to have 4 digits, if it doesn't already\n",
    "    for i in range(num_nodes + 1):\n",
    "        if len(binary_num) < i:\n",
    "            binary_num.insert(0, 0) # At beginning append 0\n",
    "    \n",
    "    return binary_num # Outputs array of the digits of the binary number"
   ]
  },
  {
   "cell_type": "markdown",
   "metadata": {},
   "source": [
    "Now, we will define a function to measure the circuit `num_reps` number of times and output an array of measurements (bit strings)."
   ]
  },
  {
   "cell_type": "code",
   "execution_count": 53,
   "metadata": {
    "scrolled": true
   },
   "outputs": [],
   "source": [
    "def get_counts(params):   \n",
    "    gammas = [params[0], params[2], params[4], params[6]]\n",
    "    betas = [params[1], params[3], params[5], params[7]]\n",
    "    \n",
    "    # The results (bit strings) of running the circuit 100 times and getting 100 measurements\n",
    "    bit_strings = []\n",
    "    for i in range(0, num_reps):\n",
    "        hold = int(circuit(gammas, betas, edge=None, num_layers=num_layers))\n",
    "        bit_strings.append(hold) # This appends the integer from 0-15 (if 4 nodes) so it outputs the computational basis measurement in decimal. \n",
    "\n",
    "    counts = np.bincount(np.array(bit_strings)) # A 1x16 array that shows the frequency of each bitstring output\n",
    "    most_freq_bit_string = np.argmax(counts) # Finds the most frequent bitstring\n",
    "\n",
    "    return counts, bit_strings, most_freq_bit_string"
   ]
  },
  {
   "cell_type": "markdown",
   "metadata": {},
   "source": [
    "Define a function to run `decimal_to_binary()` on each measurement (bit string) in the array `bit_strings`. This outputs an array of all 100 measurements in the form of individual bits."
   ]
  },
  {
   "cell_type": "code",
   "execution_count": 54,
   "metadata": {},
   "outputs": [],
   "source": [
    "def get_binary_bit_strings(bit_strings):\n",
    "    bit_strings_binary = []\n",
    "    for bit in bit_strings:  # Loops through each of the 100 measurements\n",
    "        bit_strings_binary.append(decimal_to_binary(bit))\n",
    "    return bit_strings_binary"
   ]
  },
  {
   "cell_type": "markdown",
   "metadata": {},
   "source": [
    "Now, we have our measurements in the format we want. This is the real deal of QAOA - where things start to get exciting. Next up is the cost function."
   ]
  },
  {
   "cell_type": "code",
   "execution_count": 55,
   "metadata": {},
   "outputs": [],
   "source": [
    "# Cost function\n",
    "\n",
    "def cost_function(params):\n",
    "    bit_strings = get_counts(params)[1]\n",
    "    binary_bit_strings = get_binary_bit_strings(bit_strings)\n",
    "    total_cost = 0\n",
    "    for i in range(0, len(binary_bit_strings)): # Length of binary_bit_strings should be 100\n",
    "        for edge in edges:\n",
    "            start_node = edge[0]\n",
    "            end_node = edge[1]\n",
    "            weight = edge[2]\n",
    "            # unweighted_cost = 0.5*( ( (1 - 2*binary_bit_strings[i][start_node]) * (1 - 2*binary_bit_strings[i][end_node]) ) - 1)\n",
    "            # weighted_cost = unweighted_cost * weight\n",
    "            weighted_cost = -1 * (weight * binary_bit_strings[i][start_node] * (1 - binary_bit_strings[i][end_node]) + weight * binary_bit_strings[i][end_node] * (1 - binary_bit_strings[i][start_node])) \n",
    "            total_cost += weighted_cost\n",
    "        \n",
    "    \n",
    "    total_cost = float(total_cost) / 100\n",
    "\n",
    "    print(\"Cost: \"+str(total_cost))\n",
    "\n",
    "    return total_cost"
   ]
  },
  {
   "cell_type": "markdown",
   "metadata": {},
   "source": [
    "Next, we will optimize our parameters. We will use the COBYLA optimizer to reduce the cost function."
   ]
  },
  {
   "cell_type": "code",
   "execution_count": 56,
   "metadata": {
    "scrolled": false
   },
   "outputs": [
    {
     "name": "stdout",
     "output_type": "stream",
     "text": [
      "Cost: -7.688000000000008\n",
      "Cost: -8.166000000000006\n",
      "Cost: -9.16000000000002\n",
      "Cost: -8.71300000000002\n",
      "Cost: -7.425000000000009\n",
      "Cost: -8.558000000000016\n",
      "Cost: -8.510000000000016\n",
      "Cost: -8.953000000000024\n",
      "Cost: -8.723000000000013\n",
      "Cost: -8.32500000000001\n",
      "Cost: -8.363000000000016\n",
      "Cost: -7.471000000000012\n",
      "Cost: -6.744000000000003\n",
      "Cost: -8.450000000000012\n",
      "Cost: -8.417000000000021\n",
      "Cost: -8.514000000000022\n",
      "Cost: -8.464000000000018\n",
      "Cost: -7.8440000000000145\n",
      "Cost: -8.001000000000015\n",
      "Cost: -7.5260000000000105\n",
      "Cost: -9.477000000000018\n",
      "Cost: -10.112000000000018\n",
      "Cost: -9.909000000000018\n",
      "Cost: -9.846000000000021\n",
      "Cost: -10.02300000000002\n",
      "Cost: -9.37600000000002\n",
      "Cost: -10.879000000000019\n",
      "Cost: -10.713000000000015\n",
      "Cost: -10.742000000000019\n",
      "Cost: -10.69000000000002\n",
      "Cost: -11.911000000000016\n",
      "Cost: -8.84600000000001\n",
      "Cost: -10.866000000000017\n",
      "Cost: -10.414000000000012\n",
      "Cost: -11.022000000000016\n",
      "Cost: -10.63200000000002\n",
      "Cost: -9.871000000000013\n",
      "Cost: -11.454000000000017\n",
      "Cost: -10.741000000000017\n",
      "Cost: -10.800000000000018\n",
      "Cost: -11.045000000000016\n",
      "Cost: -11.275000000000016\n",
      "Cost: -11.085000000000019\n",
      "Cost: -10.982000000000017\n",
      "Cost: -11.14600000000002\n",
      "Cost: -10.811000000000018\n",
      "Cost: -10.983000000000015\n",
      "Cost: -10.356000000000012\n",
      "Cost: -10.920000000000018\n",
      "Cost: -10.878000000000018\n",
      "Cost: -11.176000000000014\n",
      "Cost: -10.782000000000014\n",
      "Cost: -11.131000000000018\n",
      "Cost: -10.954000000000022\n",
      "Cost: -10.855000000000018\n",
      "Cost: -11.134000000000015\n",
      "Cost: -10.575000000000015\n",
      "Cost: -10.974000000000013\n",
      "Cost: -10.612000000000021\n",
      "Cost: -10.672000000000018\n",
      "Cost: -10.392000000000014\n",
      "Cost: -10.782000000000016\n",
      "Cost: -10.90600000000002\n",
      "Cost: -11.075000000000015\n",
      "Cost: -10.782000000000016\n",
      "Cost: -10.800000000000013\n",
      "Cost: -10.625000000000018\n",
      "Cost: -10.808000000000018\n",
      "Cost: -10.83600000000002\n",
      "Cost: -10.376000000000017\n",
      "Cost: -10.916000000000015\n",
      "Cost: -10.687000000000022\n",
      "Cost: -10.945000000000016\n",
      "Cost: -11.083000000000016\n",
      "Cost: -11.219000000000017\n",
      "Cost: -10.992000000000017\n",
      "Cost: -11.205000000000018\n",
      "Cost: -11.017000000000014\n",
      "Cost: -10.956000000000017\n",
      "Cost: -10.979000000000019\n",
      "Out:      fun: -10.979000000000019\n",
      "   maxcv: 0.0\n",
      " message: 'Optimization terminated successfully.'\n",
      "    nfev: 80\n",
      "  status: 1\n",
      " success: True\n",
      "       x: array([[ 0.83477421, -0.05191703, -0.0806219 , -0.03526556],\n",
      "       [ 1.0459992 , -0.07221347, -0.10599844, -0.06420531]])\n"
     ]
    }
   ],
   "source": [
    "params = init_params\n",
    "\n",
    "from scipy.optimize import minimize\n",
    "out = minimize(cost_function, x0=params, method=\"COBYLA\", options={'maxiter':num_iters}) \n",
    "# This optimizer changes our initialized params from a 2x4 array into a 1x8 array\n",
    "\n",
    "print(f'Out: {out}')"
   ]
  },
  {
   "cell_type": "markdown",
   "metadata": {},
   "source": [
    "Now, we have our optimal parameters. We will do some post-optimization data processing and run our optimal parameters through the circuit to get the answer to the weighted maxcut problem."
   ]
  },
  {
   "cell_type": "code",
   "execution_count": 57,
   "metadata": {},
   "outputs": [
    {
     "name": "stdout",
     "output_type": "stream",
     "text": [
      "The answer to our weighted maxcut is: 5 or 0101\n"
     ]
    }
   ],
   "source": [
    "optimal_params = out['x'] # This outputs a 2x4 array not a 1x8 \n",
    "optimal_params_vector = []\n",
    "for layer in range(len(optimal_params[0])): # Convert the 1x8 array into a 2x4 array\n",
    "    optimal_params_vector.append(optimal_params[0][layer])\n",
    "    optimal_params_vector.append(optimal_params[1][layer]) # optimal_params_vector is good\n",
    "    \n",
    "# optimal_params_vector is an array not a tensor \n",
    "final_bitstring = get_counts(optimal_params_vector)\n",
    "\n",
    "# The most frequent bitstring is stored in final_bitstring[2]\n",
    "binary_bit_string = ''\n",
    "for bit in decimal_to_binary(final_bitstring[2]): # This for loop gets the string version of the array binary bit string.\n",
    "        binary_bit_string += str(bit)\n",
    "\n",
    "print(f'The answer to our weighted maxcut is: {final_bitstring[2]} or {binary_bit_string}')"
   ]
  },
  {
   "cell_type": "markdown",
   "metadata": {},
   "source": [
    "Tada!! 🥳\n",
    "\n",
    "The next block of code plots our data: This is the distribution of the frequencies of each bitstring, over a sample of 100 computational basis measurements."
   ]
  },
  {
   "cell_type": "code",
   "execution_count": 58,
   "metadata": {},
   "outputs": [
    {
     "data": {
      "image/png": "[encoded data removed]",
      "text/plain": [
       "<Figure size 432x288 with 1 Axes>"
      ]
     },
     "metadata": {
      "needs_background": "light"
     },
     "output_type": "display_data"
    }
   ],
   "source": [
    "import matplotlib.pyplot as plt\n",
    "\n",
    "xticks = range(0, 16)\n",
    "xtick_labels = list(map(lambda x: format(x, \"04b\"), xticks))\n",
    "bins = np.arange(0, 17) - 0.5\n",
    "\n",
    "plt.title(f\"{num_layers} layers\")\n",
    "plt.xlabel(\"bitstrings\")\n",
    "plt.ylabel(\"frequency\")\n",
    "plt.xticks(xticks, xtick_labels, rotation=\"vertical\")\n",
    "plt.hist(final_bitstring[1], bins=bins)\n",
    "\n",
    "plt.tight_layout()\n",
    "plt.show()"
   ]
  },
  {
   "cell_type": "markdown",
   "metadata": {},
   "source": [
    "Our circuit got the outputs `0101` and `1010` with the highest frequencies.\n",
    "\n",
    "Once we get our answer, how do we know that it is correct? We will calculate the expected cost (negative score) of each of our the possible bitstrings classically. If the bitstring with the smallest cost below is the bitstring that our circuit outputs, then our circuit got the correct answer."
   ]
  },
  {
   "cell_type": "code",
   "execution_count": 59,
   "metadata": {},
   "outputs": [
    {
     "name": "stdout",
     "output_type": "stream",
     "text": [
      "Cost of 0000: 0.0\n",
      "Cost of 0001: -12.0\n",
      "Cost of 0010: -7.2\n",
      "Cost of 0011: -9.2\n",
      "Cost of 0100: -0.7\n",
      "Cost of 0101: -12.7\n",
      "Cost of 0110: -7.9\n",
      "Cost of 0111: -9.9\n",
      "Cost of 1000: -9.9\n",
      "Cost of 1001: -7.9\n",
      "Cost of 1010: -12.7\n",
      "Cost of 1011: -0.7\n",
      "Cost of 1100: -9.2\n",
      "Cost of 1101: -7.2\n",
      "Cost of 1110: -12.0\n",
      "Cost of 1111: 0.0\n"
     ]
    }
   ],
   "source": [
    "for bitstring in range(2 ** num_nodes): # For each bitstring, we will calculate the cost classically without the quantum circuit.\n",
    "    binary_bit_string = decimal_to_binary(bitstring) # Array type\n",
    "    bit_string_cost = 0\n",
    "    for edge in edges:\n",
    "        start_node = edge[0]\n",
    "        end_node = edge[1]\n",
    "        weight = edge[2]\n",
    "        weighted_cost = -1 * (weight * binary_bit_string[start_node] * (1 - binary_bit_string[end_node]) + weight * binary_bit_string[end_node] * (1 - binary_bit_string[start_node])) \n",
    "        bit_string_cost += weighted_cost\n",
    "    \n",
    "    binary_bit_string_2 = ''\n",
    "    for bit in binary_bit_string: # Gets the string version of the array type binary_bit_string\n",
    "            binary_bit_string_2 += str(bit)\n",
    "    print(f'Cost of {binary_bit_string_2}: {bit_string_cost}')"
   ]
  },
  {
   "cell_type": "markdown",
   "metadata": {},
   "source": [
    "The bit strings with the highest score are those with the lowest cost. In this case, they are `0101` and `1010`, each with a cost of `-12.7`. Our circuit also outputted `0101` and `1010` with the highest frequencies, therefore it got the correct answers."
   ]
  },
  {
   "cell_type": "markdown",
   "metadata": {},
   "source": [
    "Thanks for reading! I hope you have a great day :)"
   ]
  }
 ],
 "metadata": {
  "kernelspec": {
   "display_name": "Python 3",
   "language": "python",
   "name": "python3"
  },
  "language_info": {
   "codemirror_mode": {
    "name": "ipython",
    "version": 3
   },
   "file_extension": ".py",
   "mimetype": "text/x-python",
   "name": "python",
   "nbconvert_exporter": "python",
   "pygments_lexer": "ipython3",
   "version": "3.8.5"
  }
 },
 "nbformat": 4,
 "nbformat_minor": 4
}
