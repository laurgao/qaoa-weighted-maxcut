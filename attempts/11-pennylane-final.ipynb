{
 "cells": [
  {
   "cell_type": "code",
   "execution_count": 15,
   "metadata": {},
   "outputs": [],
   "source": [
    "import pennylane as qml\n",
    "from pennylane import numpy as np\n",
    "import networkx as nx\n",
    "from matplotlib import pyplot as plt\n",
    "import scipy\n",
    "\n",
    "np.random.seed(42)"
   ]
  },
  {
   "cell_type": "code",
   "execution_count": 33,
   "metadata": {},
   "outputs": [
    {
     "data": {
      "image/png": "[encoded data removed]",
      "text/plain": [
       "<Figure size 432x288 with 1 Axes>"
      ]
     },
     "metadata": {},
     "output_type": "display_data"
    }
   ],
   "source": [
    "n_wires = 4\n",
    "nodes = range(n_wires)\n",
    "graph = [(0,1,0.5),(1,2,5),(2,0,1.5), (2,3,1.7), (0,3,0.5)] # input the edges here. 3rd element of each tuple is the weight. \n",
    "graphy = nx.Graph() \n",
    "graphy.add_nodes_from(nodes)\n",
    "graphy.add_weighted_edges_from(graph) # change 1\n",
    "nx.draw(graphy, with_labels=True)\n",
    "plt.show() \n",
    "\n",
    "# unitary operator U_B with parameter beta\n",
    "def U_B(beta):\n",
    "    for wire in range(n_wires):\n",
    "        qml.RX(2 * beta, wires=wire)\n",
    "\n",
    "\n",
    "# unitary operator U_C with parameter gamma\n",
    "def U_C(gamma):\n",
    "    for edge in graph:\n",
    "        wire1 = edge[0]\n",
    "        wire2 = edge[1]\n",
    "        weight = edge[2]\n",
    "        qml.CNOT(wires=[wire1, wire2])\n",
    "        qml.RZ(gamma*weight, wires=wire2)\n",
    "        qml.CNOT(wires=[wire1, wire2])"
   ]
  },
  {
   "cell_type": "code",
   "execution_count": 17,
   "metadata": {},
   "outputs": [],
   "source": [
    "def comp_basis_measurement(wires):\n",
    "    n_wires = len(wires)\n",
    "    hold = qml.Hermitian(np.diag(range(2 ** n_wires)), wires=wires)\n",
    "    return hold"
   ]
  },
  {
   "cell_type": "code",
   "execution_count": 18,
   "metadata": {},
   "outputs": [],
   "source": [
    "dev = qml.device(\"default.qubit\", wires=n_wires, analytic=True, shots=1)"
   ]
  },
  {
   "cell_type": "code",
   "execution_count": 19,
   "metadata": {},
   "outputs": [],
   "source": [
    "pauli_z = [[1, 0], [0, -1]]\n",
    "pauli_z_2 = np.kron(pauli_z, pauli_z)\n",
    "\n",
    "\n",
    "@qml.qnode(dev)\n",
    "def circuit(gammas, betas, edge=None, n_layers=1):\n",
    "    # apply Hadamards to get the n qubit |+> state\n",
    "    for wire in range(n_wires):\n",
    "        qml.Hadamard(wires=wire)\n",
    "    # p instances of unitary operators\n",
    "    for i in range(n_layers):\n",
    "        # print(f'gammas: {gammas}')\n",
    "        U_C(gammas[i])\n",
    "        U_B(betas[i])\n",
    "    hold = qml.sample(comp_basis_measurement(range(n_wires)))\n",
    "    return hold        "
   ]
  },
  {
   "cell_type": "code",
   "execution_count": 20,
   "metadata": {},
   "outputs": [],
   "source": [
    "def decimal_to_binary(decimal): # future: abstract this to take in lenght.\n",
    "    binary_num = []\n",
    "    \n",
    "    def convert(decimal):\n",
    "        if decimal >= 1:\n",
    "            convert(decimal // 2)\n",
    "            binary_num.append(decimal % 2)\n",
    "    \n",
    "    convert(decimal)\n",
    "            \n",
    "    for i in range(n_wires + 1):\n",
    "        if len(binary_num) < i:\n",
    "            binary_num.insert(0, 0) # At beginning append 0\n",
    "    \n",
    "    return binary_num # outputs array of bin."
   ]
  },
  {
   "cell_type": "code",
   "execution_count": 21,
   "metadata": {
    "scrolled": true
   },
   "outputs": [],
   "source": [
    "n_layers = 4\n",
    "\n",
    "def get_counts(params):\n",
    "    # print(\"\\np={:d}\".format(n_layers))\n",
    "    \n",
    "    gammas = [params[0], params[2], params[4], params[6]]\n",
    "    betas = [params[1], params[3], params[5], params[7]]\n",
    "    \n",
    "    # sample measured bitstrings 100 times\n",
    "    bit_strings = []\n",
    "    num_reps = 100\n",
    "    for i in range(0, num_reps):\n",
    "        # print(\"can come here\")\n",
    "        # print(f'params: {params}')\n",
    "        # hold = int(circuit(params[0], params[1], edge=None, n_layers=n_layers)) change bc new optimizer\n",
    "        hold = int(circuit(gammas, betas, edge=None, n_layers=n_layers))\n",
    "        # print(f'What we are appending: {hold}')\n",
    "        bit_strings.append(hold) # This appends the integer from 0-15 (if 4 nodes) so it outputs the computational basis measurement in decimal. \n",
    "        # print(f\"int circuit right before int-ing: {circuit(params[0], params[1], edge=None, n_layers=n_layers)}\")\n",
    "        # print(f\"int circuit: {int(circuit(params[0], params[1], edge=None, n_layers=n_layers))}\")\n",
    "\n",
    "    # print optimal parameters and most frequently sampled bitstring\n",
    "    counts = np.bincount(np.array(bit_strings))\n",
    "    most_freq_bit_string = np.argmax(counts)\n",
    "\n",
    "    return counts, bit_strings"
   ]
  },
  {
   "cell_type": "code",
   "execution_count": 22,
   "metadata": {},
   "outputs": [],
   "source": [
    "# run decimal to binary to each eleemtn of bit_strings and then apply the cirq func\n",
    "\n",
    "def get_binary_bit_strings(bit_strings):\n",
    "    bit_strings_binary = []\n",
    "    for bit in bit_strings:\n",
    "        bit_strings_binary.append(decimal_to_binary(bit))\n",
    "    return bit_strings_binary"
   ]
  },
  {
   "cell_type": "code",
   "execution_count": 39,
   "metadata": {},
   "outputs": [],
   "source": [
    "# Cost function\n",
    "\n",
    "def cost_function(params):\n",
    "    # print(f'params at beginning of cost func: {params}')\n",
    "    bit_strings = get_counts(params)[1]\n",
    "    binary_bit_strings = get_binary_bit_strings(bit_strings)\n",
    "    total_cost = 0\n",
    "    for i in range(0, len(binary_bit_strings)):\n",
    "        for edge in graph:\n",
    "            start_node = edge[0]\n",
    "            end_node = edge[1]\n",
    "            weight = edge[2]\n",
    "            unweighted_cost = 0.5*( ( (1 - 2*binary_bit_strings[i][start_node]) * (1 - 2*binary_bit_strings[i][end_node]) ) - 1)\n",
    "            weighted_cost = unweighted_cost * weight\n",
    "            weighted_cost = -1 * (weight * binary_bit_strings[i][start_node] * (1 - binary_bit_strings[i][end_node]) + weight * binary_bit_strings[i][end_node] * (1 - binary_bit_strings[i][start_node])) \n",
    "            total_cost += weighted_cost\n",
    "        \n",
    "    # total_cost = float(total_cost)/rep\n",
    "\n",
    "    print(\"Cost: \"+str(total_cost))\n",
    "\n",
    "    return total_cost"
   ]
  },
  {
   "cell_type": "code",
   "execution_count": 40,
   "metadata": {
    "scrolled": false
   },
   "outputs": [
    {
     "name": "stdout",
     "output_type": "stream",
     "text": [
      "Cost: -498.79999999999956\n",
      "Cost: -479.09999999999957\n",
      "Cost: -435.1999999999996\n",
      "Cost: -447.39999999999964\n",
      "Cost: -466.99999999999955\n",
      "Cost: -441.5999999999996\n",
      "Cost: -498.1999999999996\n",
      "Cost: -519.7999999999996\n",
      "Cost: -389.99999999999955\n",
      "Cost: -469.99999999999955\n",
      "Cost: -419.0999999999995\n",
      "Cost: -407.4999999999997\n",
      "Cost: -480.8999999999996\n",
      "Cost: -420.5999999999996\n",
      "Cost: -430.99999999999966\n",
      "Cost: -526.5999999999997\n",
      "Cost: -113.60000000000002\n",
      "Cost: -444.99999999999966\n",
      "Cost: -689.6000000000006\n",
      "Cost: -420.4999999999995\n",
      "Cost: -548.9999999999995\n",
      "Cost: -348.89999999999964\n",
      "Cost: -595.6999999999999\n",
      "Cost: -709.3000000000004\n",
      "Cost: -747.4000000000005\n",
      "Cost: -600.3000000000001\n",
      "Cost: -718.5000000000003\n",
      "Cost: -692.9000000000005\n",
      "Cost: -616.0000000000001\n",
      "Cost: -685.0000000000005\n",
      "Cost: -450.0999999999995\n",
      "Cost: -650.5000000000005\n",
      "Cost: -602.5\n",
      "Cost: -701.0000000000007\n",
      "Cost: -680.9000000000005\n",
      "Cost: -705.5000000000006\n",
      "Cost: -719.6000000000007\n",
      "Cost: -732.2000000000007\n",
      "Cost: -679.2000000000005\n",
      "Cost: -723.7000000000007\n",
      "Cost: -702.5000000000002\n",
      "Cost: -716.4000000000005\n",
      "Cost: -734.4000000000007\n",
      "Cost: -663.0000000000003\n",
      "Cost: -722.0000000000006\n",
      "Cost: -662.7000000000004\n",
      "Cost: -701.4000000000004\n",
      "Cost: -710.1000000000006\n",
      "Cost: -718.0000000000007\n",
      "Cost: -663.6000000000005\n",
      "Cost: -705.7000000000007\n",
      "Cost: -726.3000000000009\n",
      "Cost: -638.0000000000001\n",
      "Cost: -672.6000000000005\n",
      "Cost: -678.8000000000004\n",
      "Cost: -684.8000000000006\n",
      "Cost: -705.0000000000007\n",
      "Cost: -698.9000000000004\n",
      "Cost: -671.5000000000005\n",
      "Cost: -693.8000000000005\n",
      "Cost: -731.4000000000007\n",
      "Cost: -712.2000000000005\n",
      "Cost: -687.1000000000006\n",
      "Cost: -676.3000000000006\n",
      "Cost: -697.8000000000004\n",
      "Cost: -747.6000000000008\n",
      "Cost: -689.0000000000005\n",
      "Cost: -717.5000000000007\n",
      "Cost: -745.3000000000006\n",
      "Cost: -705.0000000000005\n",
      "Cost: -692.2000000000005\n",
      "Cost: -677.2000000000003\n",
      "Cost: -729.3000000000006\n",
      "Cost: -672.9000000000003\n",
      "Cost: -693.4000000000003\n",
      "Cost: -675.1000000000004\n",
      "Cost: -707.8000000000006\n",
      "Cost: -701.5000000000002\n",
      "Cost: -680.5000000000005\n",
      "Cost: -707.1000000000004\n",
      "Cost: -700.4000000000004\n",
      "Out:      fun: -700.4000000000004\n",
      "   maxcv: 0.0\n",
      " message: 'Optimization terminated successfully.'\n",
      "    nfev: 81\n",
      "  status: 1\n",
      " success: True\n",
      "       x: array([[-0.05074532,  0.05914225,  0.44007417,  1.1208672 ],\n",
      "       [-0.04380208,  0.52769926, -0.47742202, -0.24090861]])\n"
     ]
    }
   ],
   "source": [
    "# initialize the parameters near zero\n",
    "init_params = 0.01 * np.random.rand(2, n_layers) # change 4 -> maxcut unrelated, just so i can have 3 layers.\n",
    "params = init_params\n",
    "# cost function here works. but not in the optimizer.\n",
    "# print(f'init params: {params}')\n",
    "\n",
    "from scipy.optimize import minimize\n",
    "out = minimize(cost_function, x0=params, method=\"COBYLA\", options={'maxiter':100}) # this line changes params from a 2x4 array into a 1x8 array. :/\n",
    "print(f'Out: {out}')"
   ]
  },
  {
   "cell_type": "code",
   "execution_count": 41,
   "metadata": {},
   "outputs": [
    {
     "name": "stdout",
     "output_type": "stream",
     "text": [
      "[-0.05074532020177523, -0.043802084304300506, 0.05914225125360394, 0.5276992648686096, 0.44007416717301284, -0.47742202213213214, 1.120867197920408, -0.2409086130601557]\n",
      "[14, 13, 2, 1, 7, 2, 13, 12, 2, 2, 13, 12, 13, 2, 13, 2, 2, 13, 13, 2, 13, 13, 2, 13, 8, 13, 7, 5, 13, 2, 1, 13, 13, 2, 2, 13, 2, 3, 2, 12, 1, 12, 13, 7, 2, 2, 2, 5, 13, 0, 13, 13, 4, 2, 13, 13, 14, 3, 13, 2, 3, 5, 4, 12, 2, 13, 11, 13, 0, 12, 3, 8, 13, 2, 2, 13, 8, 2, 7, 5, 13, 0, 12, 12, 13, 13, 4, 2, 2, 2, 2, 13, 13, 3, 2, 2, 13, 13, 2, 12]\n"
     ]
    }
   ],
   "source": [
    "optimal_params = out['x'] # bruh this shit outputs in a 2x4 array\n",
    "optimal_params_vector = []\n",
    "for j in range(len(optimal_params[0])):\n",
    "    optimal_params_vector.append(optimal_params[0][j])\n",
    "    optimal_params_vector.append(optimal_params[1][j]) # optimal_params_vector is good\n",
    "    \n",
    "print(optimal_params_vector) # oh bruh this shit is an array not a tensor so it doesnt work wtf\n",
    "final_bitstring = get_counts(optimal_params_vector)[1]\n",
    "print(final_bitstring)"
   ]
  },
  {
   "cell_type": "code",
   "execution_count": 43,
   "metadata": {},
   "outputs": [
    {
     "data": {
      "image/png": "[encoded data removed]",
      "text/plain": [
       "<Figure size 576x288 with 2 Axes>"
      ]
     },
     "metadata": {
      "needs_background": "light"
     },
     "output_type": "display_data"
    }
   ],
   "source": [
    "import matplotlib.pyplot as plt\n",
    "\n",
    "xticks = range(0, 16)\n",
    "xtick_labels = list(map(lambda x: format(x, \"04b\"), xticks))\n",
    "bins = np.arange(0, 17) - 0.5\n",
    "\n",
    "fig, (ax1, ax2) = plt.subplots(1, 2, figsize=(8, 4))\n",
    "plt.subplot(1, 2, 1)\n",
    "plt.title(\"4 layers\")\n",
    "plt.xlabel(\"bitstrings\")\n",
    "plt.ylabel(\"freq.\")\n",
    "plt.xticks(xticks, xtick_labels, rotation=\"vertical\")\n",
    "plt.hist(final_bitstring[1], bins=bins)\n",
    "plt.subplot(1, 2, 2)\n",
    "\n",
    "plt.tight_layout()\n",
    "plt.show()"
   ]
  },
  {
   "cell_type": "code",
   "execution_count": null,
   "metadata": {},
   "outputs": [],
   "source": [
    "# Sort of success -  I got 1/2 of the answer 😅"
   ]
  }
 ],
 "metadata": {
  "kernelspec": {
   "display_name": "Python 3",
   "language": "python",
   "name": "python3"
  },
  "language_info": {
   "codemirror_mode": {
    "name": "ipython",
    "version": 3
   },
   "file_extension": ".py",
   "mimetype": "text/x-python",
   "name": "python",
   "nbconvert_exporter": "python",
   "pygments_lexer": "ipython3",
   "version": "3.8.5"
  }
 },
 "nbformat": 4,
 "nbformat_minor": 4
}
